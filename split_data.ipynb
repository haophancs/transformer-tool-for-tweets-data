{
 "cells": [
  {
   "cell_type": "code",
   "execution_count": 1,
   "metadata": {
    "collapsed": true
   },
   "outputs": [
    {
     "name": "stdout",
     "output_type": "stream",
     "text": [
      "<class 'pandas.core.frame.DataFrame'>\n",
      "RangeIndex: 6936 entries, 1 to 6936\n",
      "Data columns (total 3 columns):\n",
      " #   Column  Non-Null Count  Dtype \n",
      "---  ------  --------------  ----- \n",
      " 0   0       6936 non-null   object\n",
      " 1   1       6936 non-null   object\n",
      " 2   2       6936 non-null   object\n",
      "dtypes: object(3)\n",
      "memory usage: 162.7+ KB\n",
      "None\n",
      "UNINFORMATIVE    3663\n",
      "INFORMATIVE      3273\n",
      "Name: 2, dtype: int64\n"
     ]
    },
    {
     "data": {
      "text/plain": "                     0                                                  1  \\\n1  1241490299215634434  Official death toll from #covid19 in the Unite...   \n2  1245916400981381130  Dearest Mr. President @USER 1,169 coronavirus ...   \n3  1241132432402849793  Latest Updates March 20 ⚠️5274 new cases and 3...   \n4  1236107253666607104  真把公主不当干部 BREAKING: 21 people on Grand Princess...   \n5  1239673817552879619  OKLAHOMA CITY — The State Department of Educat...   \n\n               2  \n1    INFORMATIVE  \n2    INFORMATIVE  \n3    INFORMATIVE  \n4    INFORMATIVE  \n5  UNINFORMATIVE  ",
      "text/html": "<div>\n<style scoped>\n    .dataframe tbody tr th:only-of-type {\n        vertical-align: middle;\n    }\n\n    .dataframe tbody tr th {\n        vertical-align: top;\n    }\n\n    .dataframe thead th {\n        text-align: right;\n    }\n</style>\n<table border=\"1\" class=\"dataframe\">\n  <thead>\n    <tr style=\"text-align: right;\">\n      <th></th>\n      <th>0</th>\n      <th>1</th>\n      <th>2</th>\n    </tr>\n  </thead>\n  <tbody>\n    <tr>\n      <th>1</th>\n      <td>1241490299215634434</td>\n      <td>Official death toll from #covid19 in the Unite...</td>\n      <td>INFORMATIVE</td>\n    </tr>\n    <tr>\n      <th>2</th>\n      <td>1245916400981381130</td>\n      <td>Dearest Mr. President @USER 1,169 coronavirus ...</td>\n      <td>INFORMATIVE</td>\n    </tr>\n    <tr>\n      <th>3</th>\n      <td>1241132432402849793</td>\n      <td>Latest Updates March 20 ⚠️5274 new cases and 3...</td>\n      <td>INFORMATIVE</td>\n    </tr>\n    <tr>\n      <th>4</th>\n      <td>1236107253666607104</td>\n      <td>真把公主不当干部 BREAKING: 21 people on Grand Princess...</td>\n      <td>INFORMATIVE</td>\n    </tr>\n    <tr>\n      <th>5</th>\n      <td>1239673817552879619</td>\n      <td>OKLAHOMA CITY — The State Department of Educat...</td>\n      <td>UNINFORMATIVE</td>\n    </tr>\n  </tbody>\n</table>\n</div>"
     },
     "execution_count": 1,
     "metadata": {},
     "output_type": "execute_result"
    }
   ],
   "source": [
    "import pandas as pd\n",
    "import numpy as np\n",
    "\n",
    "train_url = \"https://raw.githubusercontent.com/VinAIResearch/COVID19Tweet/master/train.tsv\"\n",
    "train_df = pd.read_csv(train_url, header=None, sep='\\t')[1:]\n",
    "print(train_df.info())\n",
    "print(train_df[2].value_counts())\n",
    "train_df.head()"
   ]
  },
  {
   "cell_type": "code",
   "execution_count": 2,
   "outputs": [
    {
     "name": "stdout",
     "output_type": "stream",
     "text": [
      "(3273, 3)\n",
      "(3663, 3)\n"
     ]
    }
   ],
   "source": [
    "train_informatives = train_df[train_df[2]=='INFORMATIVE']\n",
    "train_uninformatives = train_df[train_df[2]=='UNINFORMATIVE']\n",
    "print(train_informatives.shape)\n",
    "print(train_uninformatives.shape)"
   ],
   "metadata": {
    "collapsed": false,
    "pycharm": {
     "name": "#%%\n"
    }
   }
  },
  {
   "cell_type": "code",
   "execution_count": 3,
   "outputs": [
    {
     "name": "stdout",
     "output_type": "stream",
     "text": [
      "(2900, 3)\n",
      "(373, 3)\n",
      "(2900, 3)\n",
      "(763, 3)\n"
     ]
    }
   ],
   "source": [
    "inf1 = train_informatives[:2900]\n",
    "inf2 = train_informatives[2900:]\n",
    "uninf1 = train_uninformatives[:2900]\n",
    "uninf2 = train_uninformatives[2900:]\n",
    "print(inf1.shape)\n",
    "print(inf2.shape)\n",
    "print(uninf1.shape)\n",
    "print(uninf2.shape)"
   ],
   "metadata": {
    "collapsed": false,
    "pycharm": {
     "name": "#%%\n"
    }
   }
  },
  {
   "cell_type": "code",
   "execution_count": 4,
   "outputs": [
    {
     "name": "stdout",
     "output_type": "stream",
     "text": [
      "(5800, 3)\n",
      "RangeIndex(start=0, stop=5800, step=1)\n",
      "INFORMATIVE      2900\n",
      "UNINFORMATIVE    2900\n",
      "Name: 2, dtype: int64\n"
     ]
    },
    {
     "data": {
      "text/plain": "                     0                                                  1  \\\n0  1236429316579184641  #WorserThanThat, KRISTI~ My Sources Say There ...   \n1  1248985080451796993  First ten doctors named as having died from #c...   \n2  1250552713206812674  If one thing signals our ability in our health...   \n3  1236110177574649856  EPA lists of cleaners that kill Coronavirus 🔻🔻...   \n4  1236089022847627265  KENTUCKY CORONAVIRUS UPDATE: Kentucky's first ...   \n\n               2  \n0  UNINFORMATIVE  \n1    INFORMATIVE  \n2    INFORMATIVE  \n3  UNINFORMATIVE  \n4    INFORMATIVE  ",
      "text/html": "<div>\n<style scoped>\n    .dataframe tbody tr th:only-of-type {\n        vertical-align: middle;\n    }\n\n    .dataframe tbody tr th {\n        vertical-align: top;\n    }\n\n    .dataframe thead th {\n        text-align: right;\n    }\n</style>\n<table border=\"1\" class=\"dataframe\">\n  <thead>\n    <tr style=\"text-align: right;\">\n      <th></th>\n      <th>0</th>\n      <th>1</th>\n      <th>2</th>\n    </tr>\n  </thead>\n  <tbody>\n    <tr>\n      <th>0</th>\n      <td>1236429316579184641</td>\n      <td>#WorserThanThat, KRISTI~ My Sources Say There ...</td>\n      <td>UNINFORMATIVE</td>\n    </tr>\n    <tr>\n      <th>1</th>\n      <td>1248985080451796993</td>\n      <td>First ten doctors named as having died from #c...</td>\n      <td>INFORMATIVE</td>\n    </tr>\n    <tr>\n      <th>2</th>\n      <td>1250552713206812674</td>\n      <td>If one thing signals our ability in our health...</td>\n      <td>INFORMATIVE</td>\n    </tr>\n    <tr>\n      <th>3</th>\n      <td>1236110177574649856</td>\n      <td>EPA lists of cleaners that kill Coronavirus 🔻🔻...</td>\n      <td>UNINFORMATIVE</td>\n    </tr>\n    <tr>\n      <th>4</th>\n      <td>1236089022847627265</td>\n      <td>KENTUCKY CORONAVIRUS UPDATE: Kentucky's first ...</td>\n      <td>INFORMATIVE</td>\n    </tr>\n  </tbody>\n</table>\n</div>"
     },
     "execution_count": 4,
     "metadata": {},
     "output_type": "execute_result"
    }
   ],
   "source": [
    "final_train = pd.concat([inf1, uninf1]).reset_index(drop=True)\n",
    "final_train = final_train.reindex(np.random.permutation(final_train.index)).reset_index(drop=True)\n",
    "print(final_train.shape)\n",
    "print(final_train.index)\n",
    "print(final_train[2].value_counts())\n",
    "final_train.head()"
   ],
   "metadata": {
    "collapsed": false,
    "pycharm": {
     "name": "#%%\n"
    }
   }
  },
  {
   "cell_type": "code",
   "execution_count": 5,
   "outputs": [
    {
     "name": "stdout",
     "output_type": "stream",
     "text": [
      "<class 'pandas.core.frame.DataFrame'>\n",
      "RangeIndex: 1000 entries, 0 to 999\n",
      "Data columns (total 3 columns):\n",
      " #   Column  Non-Null Count  Dtype \n",
      "---  ------  --------------  ----- \n",
      " 0   0       1000 non-null   int64 \n",
      " 1   1       1000 non-null   object\n",
      " 2   2       1000 non-null   object\n",
      "dtypes: int64(1), object(2)\n",
      "memory usage: 23.6+ KB\n",
      "None\n",
      "UNINFORMATIVE    528\n",
      "INFORMATIVE      472\n",
      "Name: 2, dtype: int64\n"
     ]
    },
    {
     "data": {
      "text/plain": "                     0                                                  1  \\\n0  1241728922192142336  For those saying Pakistan isn’t Italy; After 3...   \n1  1235713405992030209  Second case DR 🇩🇴 The Canadian woman has not b...   \n2  1245941302367305728  Kill Chain: the cyber war on America's electio...   \n3  1245913002840391681  Town hosts FIRST #Virtual #TownCouncil meeting...   \n4  1240543259299987457  Report suggested that the actual number of und...   \n\n               2  \n0  UNINFORMATIVE  \n1    INFORMATIVE  \n2  UNINFORMATIVE  \n3  UNINFORMATIVE  \n4  UNINFORMATIVE  ",
      "text/html": "<div>\n<style scoped>\n    .dataframe tbody tr th:only-of-type {\n        vertical-align: middle;\n    }\n\n    .dataframe tbody tr th {\n        vertical-align: top;\n    }\n\n    .dataframe thead th {\n        text-align: right;\n    }\n</style>\n<table border=\"1\" class=\"dataframe\">\n  <thead>\n    <tr style=\"text-align: right;\">\n      <th></th>\n      <th>0</th>\n      <th>1</th>\n      <th>2</th>\n    </tr>\n  </thead>\n  <tbody>\n    <tr>\n      <th>0</th>\n      <td>1241728922192142336</td>\n      <td>For those saying Pakistan isn’t Italy; After 3...</td>\n      <td>UNINFORMATIVE</td>\n    </tr>\n    <tr>\n      <th>1</th>\n      <td>1235713405992030209</td>\n      <td>Second case DR 🇩🇴 The Canadian woman has not b...</td>\n      <td>INFORMATIVE</td>\n    </tr>\n    <tr>\n      <th>2</th>\n      <td>1245941302367305728</td>\n      <td>Kill Chain: the cyber war on America's electio...</td>\n      <td>UNINFORMATIVE</td>\n    </tr>\n    <tr>\n      <th>3</th>\n      <td>1245913002840391681</td>\n      <td>Town hosts FIRST #Virtual #TownCouncil meeting...</td>\n      <td>UNINFORMATIVE</td>\n    </tr>\n    <tr>\n      <th>4</th>\n      <td>1240543259299987457</td>\n      <td>Report suggested that the actual number of und...</td>\n      <td>UNINFORMATIVE</td>\n    </tr>\n  </tbody>\n</table>\n</div>"
     },
     "execution_count": 5,
     "metadata": {},
     "output_type": "execute_result"
    }
   ],
   "source": [
    "valid_url = \"https://raw.githubusercontent.com/VinAIResearch/COVID19Tweet/master/valid.tsv\"\n",
    "valid_df = pd.read_csv(valid_url, header=None, sep='\\t')\n",
    "print(valid_df.info())\n",
    "print(valid_df[2].value_counts())\n",
    "valid_df.head()"
   ],
   "metadata": {
    "collapsed": false,
    "pycharm": {
     "name": "#%%\n"
    }
   }
  },
  {
   "cell_type": "code",
   "execution_count": 6,
   "outputs": [
    {
     "name": "stdout",
     "output_type": "stream",
     "text": [
      "(472, 3)\n",
      "(528, 3)\n",
      "(373, 3)\n",
      "(763, 3)\n"
     ]
    }
   ],
   "source": [
    "valid_informatives = valid_df[valid_df[2]=='INFORMATIVE']\n",
    "valid_uninformatives = valid_df[valid_df[2]=='UNINFORMATIVE']\n",
    "print(valid_informatives.shape)\n",
    "print(valid_uninformatives.shape)\n",
    "print(inf2.shape)\n",
    "print(uninf2.shape)"
   ],
   "metadata": {
    "collapsed": false,
    "pycharm": {
     "name": "#%%\n"
    }
   }
  },
  {
   "cell_type": "code",
   "execution_count": 7,
   "outputs": [
    {
     "name": "stdout",
     "output_type": "stream",
     "text": [
      "INFORMATIVE      500\n",
      "UNINFORMATIVE    500\n",
      "Name: 2, dtype: int64\n"
     ]
    }
   ],
   "source": [
    "final_valid = pd.concat([inf2, uninf2[:500]]).reset_index(drop=True)\n",
    "uninf2 = uninf2[500:]\n",
    "final_valid = pd.concat([final_valid, valid_informatives[:127]]).reset_index(drop=True)\n",
    "final_valid = final_valid.reindex(np.random.permutation(final_valid.index)).reset_index(drop=True)\n",
    "valid_informatives = valid_informatives[127:]\n",
    "print(final_valid[2].value_counts())"
   ],
   "metadata": {
    "collapsed": false,
    "pycharm": {
     "name": "#%%\n"
    }
   }
  },
  {
   "cell_type": "code",
   "execution_count": 8,
   "outputs": [
    {
     "name": "stdout",
     "output_type": "stream",
     "text": [
      "UNINFORMATIVE    263\n",
      "Name: 2, dtype: int64\n",
      "INFORMATIVE    345\n",
      "Name: 2, dtype: int64\n",
      "UNINFORMATIVE    528\n",
      "Name: 2, dtype: int64\n"
     ]
    }
   ],
   "source": [
    "print(uninf2[2].value_counts())\n",
    "print(valid_informatives[2].value_counts())\n",
    "print(valid_uninformatives[2].value_counts())"
   ],
   "metadata": {
    "collapsed": false,
    "pycharm": {
     "name": "#%%\n"
    }
   }
  },
  {
   "cell_type": "code",
   "execution_count": 9,
   "outputs": [
    {
     "name": "stdout",
     "output_type": "stream",
     "text": [
      "(405, 3)\n"
     ]
    }
   ],
   "source": [
    "final_test = pd.concat([valid_informatives, valid_uninformatives[:386]]).reset_index(drop=True)\n",
    "final_test = final_test.reindex(np.random.permutation(final_test.index)).reset_index(drop=True)\n",
    "valid_uninformatives = valid_uninformatives[386:]\n",
    "remainders = pd.concat([uninf2, valid_uninformatives]).reset_index(drop=True)\n",
    "remainders = remainders.reindex(np.random.permutation(remainders.index)).reset_index(drop=True)\n",
    "print(remainders.shape)"
   ],
   "metadata": {
    "collapsed": false,
    "pycharm": {
     "name": "#%%\n"
    }
   }
  },
  {
   "cell_type": "code",
   "execution_count": 10,
   "outputs": [],
   "source": [
    "final_train.to_csv('./data/raw/train.tsv', sep='\\t', header=False, index=False)\n",
    "final_valid.to_csv('./data/raw/valid.tsv', sep='\\t', header=False, index=False)\n",
    "final_test.to_csv('./data/raw/test.tsv', sep='\\t', header=False, index=False)\n",
    "remainders.to_csv('./data/raw/remainders.tsv', sep='\\t', header=False, index=False)"
   ],
   "metadata": {
    "collapsed": false,
    "pycharm": {
     "name": "#%%\n"
    }
   }
  },
  {
   "cell_type": "code",
   "execution_count": null,
   "outputs": [],
   "source": [],
   "metadata": {
    "collapsed": false,
    "pycharm": {
     "name": "#%%\n"
    }
   }
  }
 ],
 "metadata": {
  "kernelspec": {
   "display_name": "Python 3",
   "language": "python",
   "name": "python3"
  },
  "language_info": {
   "codemirror_mode": {
    "name": "ipython",
    "version": 2
   },
   "file_extension": ".py",
   "mimetype": "text/x-python",
   "name": "python",
   "nbconvert_exporter": "python",
   "pygments_lexer": "ipython2",
   "version": "2.7.6"
  }
 },
 "nbformat": 4,
 "nbformat_minor": 0
}