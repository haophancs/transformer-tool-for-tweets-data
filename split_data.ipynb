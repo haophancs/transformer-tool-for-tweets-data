{
 "cells": [
  {
   "cell_type": "code",
   "execution_count": 3,
   "metadata": {
    "collapsed": true
   },
   "outputs": [
    {
     "data": {
      "text/plain": "                     0                                                  1  \\\n1  1241490299215634434  Official death toll from #covid19 in the Unite...   \n2  1245916400981381130  Dearest Mr. President @USER 1,169 coronavirus ...   \n3  1241132432402849793  Latest Updates March 20 ⚠️5274 new cases and 3...   \n4  1236107253666607104  真把公主不当干部 BREAKING: 21 people on Grand Princess...   \n5  1239673817552879619  OKLAHOMA CITY — The State Department of Educat...   \n\n               2  \n1    INFORMATIVE  \n2    INFORMATIVE  \n3    INFORMATIVE  \n4    INFORMATIVE  \n5  UNINFORMATIVE  ",
      "text/html": "<div>\n<style scoped>\n    .dataframe tbody tr th:only-of-type {\n        vertical-align: middle;\n    }\n\n    .dataframe tbody tr th {\n        vertical-align: top;\n    }\n\n    .dataframe thead th {\n        text-align: right;\n    }\n</style>\n<table border=\"1\" class=\"dataframe\">\n  <thead>\n    <tr style=\"text-align: right;\">\n      <th></th>\n      <th>0</th>\n      <th>1</th>\n      <th>2</th>\n    </tr>\n  </thead>\n  <tbody>\n    <tr>\n      <th>1</th>\n      <td>1241490299215634434</td>\n      <td>Official death toll from #covid19 in the Unite...</td>\n      <td>INFORMATIVE</td>\n    </tr>\n    <tr>\n      <th>2</th>\n      <td>1245916400981381130</td>\n      <td>Dearest Mr. President @USER 1,169 coronavirus ...</td>\n      <td>INFORMATIVE</td>\n    </tr>\n    <tr>\n      <th>3</th>\n      <td>1241132432402849793</td>\n      <td>Latest Updates March 20 ⚠️5274 new cases and 3...</td>\n      <td>INFORMATIVE</td>\n    </tr>\n    <tr>\n      <th>4</th>\n      <td>1236107253666607104</td>\n      <td>真把公主不当干部 BREAKING: 21 people on Grand Princess...</td>\n      <td>INFORMATIVE</td>\n    </tr>\n    <tr>\n      <th>5</th>\n      <td>1239673817552879619</td>\n      <td>OKLAHOMA CITY — The State Department of Educat...</td>\n      <td>UNINFORMATIVE</td>\n    </tr>\n  </tbody>\n</table>\n</div>"
     },
     "execution_count": 3,
     "metadata": {},
     "output_type": "execute_result"
    }
   ],
   "source": [
    "import pandas as pd\n",
    "import numpy as np\n",
    "\n",
    "train_url = \"https://raw.githubusercontent.com/VinAIResearch/COVID19Tweet/master/train.tsv\"\n",
    "train_df = pd.read_csv(train_url, header=None, sep='\\t')[1:]\n",
    "train_df.head()"
   ]
  },
  {
   "cell_type": "code",
   "execution_count": 6,
   "outputs": [
    {
     "data": {
      "text/plain": "                     0                                                  1  \\\n0  1241728922192142336  For those saying Pakistan isn’t Italy; After 3...   \n1  1235713405992030209  Second case DR 🇩🇴 The Canadian woman has not b...   \n2  1245941302367305728  Kill Chain: the cyber war on America's electio...   \n3  1245913002840391681  Town hosts FIRST #Virtual #TownCouncil meeting...   \n4  1240543259299987457  Report suggested that the actual number of und...   \n\n               2  \n0  UNINFORMATIVE  \n1    INFORMATIVE  \n2  UNINFORMATIVE  \n3  UNINFORMATIVE  \n4  UNINFORMATIVE  ",
      "text/html": "<div>\n<style scoped>\n    .dataframe tbody tr th:only-of-type {\n        vertical-align: middle;\n    }\n\n    .dataframe tbody tr th {\n        vertical-align: top;\n    }\n\n    .dataframe thead th {\n        text-align: right;\n    }\n</style>\n<table border=\"1\" class=\"dataframe\">\n  <thead>\n    <tr style=\"text-align: right;\">\n      <th></th>\n      <th>0</th>\n      <th>1</th>\n      <th>2</th>\n    </tr>\n  </thead>\n  <tbody>\n    <tr>\n      <th>0</th>\n      <td>1241728922192142336</td>\n      <td>For those saying Pakistan isn’t Italy; After 3...</td>\n      <td>UNINFORMATIVE</td>\n    </tr>\n    <tr>\n      <th>1</th>\n      <td>1235713405992030209</td>\n      <td>Second case DR 🇩🇴 The Canadian woman has not b...</td>\n      <td>INFORMATIVE</td>\n    </tr>\n    <tr>\n      <th>2</th>\n      <td>1245941302367305728</td>\n      <td>Kill Chain: the cyber war on America's electio...</td>\n      <td>UNINFORMATIVE</td>\n    </tr>\n    <tr>\n      <th>3</th>\n      <td>1245913002840391681</td>\n      <td>Town hosts FIRST #Virtual #TownCouncil meeting...</td>\n      <td>UNINFORMATIVE</td>\n    </tr>\n    <tr>\n      <th>4</th>\n      <td>1240543259299987457</td>\n      <td>Report suggested that the actual number of und...</td>\n      <td>UNINFORMATIVE</td>\n    </tr>\n  </tbody>\n</table>\n</div>"
     },
     "execution_count": 6,
     "metadata": {},
     "output_type": "execute_result"
    }
   ],
   "source": [
    "valid_url = \"https://raw.githubusercontent.com/VinAIResearch/COVID19Tweet/master/valid.tsv\"\n",
    "valid_df = pd.read_csv(valid_url, header=None, sep='\\t')\n",
    "valid_df.head()"
   ],
   "metadata": {
    "collapsed": false,
    "pycharm": {
     "name": "#%%\n"
    }
   }
  },
  {
   "cell_type": "code",
   "execution_count": 8,
   "outputs": [
    {
     "name": "stdout",
     "output_type": "stream",
     "text": [
      "(3273, 3)\n",
      "(3663, 3)\n"
     ]
    }
   ],
   "source": [
    "train_informatives = train_df[train_df[2]=='INFORMATIVE']\n",
    "train_uninformatives = train_df[train_df[2]=='UNINFORMATIVE']\n",
    "print(train_informatives.shape)\n",
    "print(train_uninformatives.shape)"
   ],
   "metadata": {
    "collapsed": false,
    "pycharm": {
     "name": "#%%\n"
    }
   }
  },
  {
   "cell_type": "code",
   "execution_count": 10,
   "outputs": [
    {
     "name": "stdout",
     "output_type": "stream",
     "text": [
      "(472, 3)\n",
      "(528, 3)\n"
     ]
    }
   ],
   "source": [
    "valid_informatives = valid_df[valid_df[2]=='INFORMATIVE']\n",
    "valid_uninformatives = valid_df[valid_df[2]=='UNINFORMATIVE']\n",
    "print(valid_informatives.shape)\n",
    "print(valid_uninformatives.shape)"
   ],
   "metadata": {
    "collapsed": false,
    "pycharm": {
     "name": "#%%\n"
    }
   }
  },
  {
   "cell_type": "code",
   "execution_count": 12,
   "outputs": [
    {
     "name": "stdout",
     "output_type": "stream",
     "text": [
      "(3000, 3)\n",
      "(273, 3)\n",
      "(3000, 3)\n",
      "(663, 3)\n"
     ]
    }
   ],
   "source": [
    "inf1 = train_informatives[:3000]\n",
    "inf2 = train_informatives[3000:]\n",
    "uninf1 = train_uninformatives[:3000]\n",
    "uninf2 = train_uninformatives[3000:]\n",
    "print(inf1.shape)\n",
    "print(inf2.shape)\n",
    "print(uninf1.shape)\n",
    "print(uninf2.shape)"
   ],
   "metadata": {
    "collapsed": false,
    "pycharm": {
     "name": "#%%\n"
    }
   }
  },
  {
   "cell_type": "code",
   "execution_count": 15,
   "outputs": [
    {
     "name": "stdout",
     "output_type": "stream",
     "text": [
      "(6000, 3)\n",
      "RangeIndex(start=0, stop=6000, step=1)\n"
     ]
    },
    {
     "data": {
      "text/plain": "                     0                                                  1  \\\n0  1236132643487399938  BREAKING NEWS: Utah confirms first case of COV...   \n1  1236565724547563520  Despite the constant negative press covfefe Co...   \n2  1241239980380487680  (Mirror):Two cruise ships could be used as flo...   \n3  1237217314900078592  Over 50K ppl. have RECOVERED from the corona v...   \n4  1246067420663443459  Oldest #CoronaVirus patients in #Kerala, 93-yr...   \n\n               2  \n0    INFORMATIVE  \n1  UNINFORMATIVE  \n2  UNINFORMATIVE  \n3    INFORMATIVE  \n4    INFORMATIVE  ",
      "text/html": "<div>\n<style scoped>\n    .dataframe tbody tr th:only-of-type {\n        vertical-align: middle;\n    }\n\n    .dataframe tbody tr th {\n        vertical-align: top;\n    }\n\n    .dataframe thead th {\n        text-align: right;\n    }\n</style>\n<table border=\"1\" class=\"dataframe\">\n  <thead>\n    <tr style=\"text-align: right;\">\n      <th></th>\n      <th>0</th>\n      <th>1</th>\n      <th>2</th>\n    </tr>\n  </thead>\n  <tbody>\n    <tr>\n      <th>0</th>\n      <td>1236132643487399938</td>\n      <td>BREAKING NEWS: Utah confirms first case of COV...</td>\n      <td>INFORMATIVE</td>\n    </tr>\n    <tr>\n      <th>1</th>\n      <td>1236565724547563520</td>\n      <td>Despite the constant negative press covfefe Co...</td>\n      <td>UNINFORMATIVE</td>\n    </tr>\n    <tr>\n      <th>2</th>\n      <td>1241239980380487680</td>\n      <td>(Mirror):Two cruise ships could be used as flo...</td>\n      <td>UNINFORMATIVE</td>\n    </tr>\n    <tr>\n      <th>3</th>\n      <td>1237217314900078592</td>\n      <td>Over 50K ppl. have RECOVERED from the corona v...</td>\n      <td>INFORMATIVE</td>\n    </tr>\n    <tr>\n      <th>4</th>\n      <td>1246067420663443459</td>\n      <td>Oldest #CoronaVirus patients in #Kerala, 93-yr...</td>\n      <td>INFORMATIVE</td>\n    </tr>\n  </tbody>\n</table>\n</div>"
     },
     "execution_count": 15,
     "metadata": {},
     "output_type": "execute_result"
    }
   ],
   "source": [
    "final_train = pd.concat([inf1, uninf1]).reset_index(drop=True)\n",
    "final_train = final_train.reindex(np.random.permutation(final_train.index)).reset_index(drop=True)\n",
    "print(final_train.shape)\n",
    "print(final_train.index)\n",
    "final_train.head()"
   ],
   "metadata": {
    "collapsed": false,
    "pycharm": {
     "name": "#%%\n"
    }
   }
  },
  {
   "cell_type": "code",
   "execution_count": 18,
   "outputs": [
    {
     "name": "stdout",
     "output_type": "stream",
     "text": [
      "(1024, 3)\n",
      "RangeIndex(start=0, stop=1024, step=1)\n"
     ]
    },
    {
     "data": {
      "text/plain": "                     0                                                  1  \\\n0  1241150967946424320  In #Italy, a country of 60 million, over 600 d...   \n1  1243532023765049345  Well this is interesting... Coronavirus Ravage...   \n2  1244888881549332487  COVID-19 has claimed more than 40 lives in Ind...   \n3  1235663261191684096  .@USER is providing an update on the coronavir...   \n4  1239231851346231303  Wouldn't it be good for UK government to test ...   \n\n               2  \n0    INFORMATIVE  \n1    INFORMATIVE  \n2    INFORMATIVE  \n3    INFORMATIVE  \n4  UNINFORMATIVE  ",
      "text/html": "<div>\n<style scoped>\n    .dataframe tbody tr th:only-of-type {\n        vertical-align: middle;\n    }\n\n    .dataframe tbody tr th {\n        vertical-align: top;\n    }\n\n    .dataframe thead th {\n        text-align: right;\n    }\n</style>\n<table border=\"1\" class=\"dataframe\">\n  <thead>\n    <tr style=\"text-align: right;\">\n      <th></th>\n      <th>0</th>\n      <th>1</th>\n      <th>2</th>\n    </tr>\n  </thead>\n  <tbody>\n    <tr>\n      <th>0</th>\n      <td>1241150967946424320</td>\n      <td>In #Italy, a country of 60 million, over 600 d...</td>\n      <td>INFORMATIVE</td>\n    </tr>\n    <tr>\n      <th>1</th>\n      <td>1243532023765049345</td>\n      <td>Well this is interesting... Coronavirus Ravage...</td>\n      <td>INFORMATIVE</td>\n    </tr>\n    <tr>\n      <th>2</th>\n      <td>1244888881549332487</td>\n      <td>COVID-19 has claimed more than 40 lives in Ind...</td>\n      <td>INFORMATIVE</td>\n    </tr>\n    <tr>\n      <th>3</th>\n      <td>1235663261191684096</td>\n      <td>.@USER is providing an update on the coronavir...</td>\n      <td>INFORMATIVE</td>\n    </tr>\n    <tr>\n      <th>4</th>\n      <td>1239231851346231303</td>\n      <td>Wouldn't it be good for UK government to test ...</td>\n      <td>UNINFORMATIVE</td>\n    </tr>\n  </tbody>\n</table>\n</div>"
     },
     "execution_count": 18,
     "metadata": {},
     "output_type": "execute_result"
    }
   ],
   "source": [
    "final_valid = pd.concat([valid_informatives, inf2[:40]])\n",
    "inf3 = inf2[40:]\n",
    "final_valid = pd.concat([final_valid, valid_uninformatives[:512]])\n",
    "uninf3 = valid_uninformatives[512:]\n",
    "final_valid = final_valid.reset_index(drop=True)\n",
    "final_valid = final_valid.reindex(np.random.permutation(final_valid.index)).reset_index(drop=True)\n",
    "print(final_valid.shape)\n",
    "print(final_valid.index)\n",
    "final_valid.head()"
   ],
   "metadata": {
    "collapsed": false,
    "pycharm": {
     "name": "#%%\n"
    }
   }
  },
  {
   "cell_type": "code",
   "execution_count": 19,
   "outputs": [
    {
     "name": "stdout",
     "output_type": "stream",
     "text": [
      "(233, 3)\n",
      "(16, 3)\n"
     ]
    }
   ],
   "source": [
    "print(inf3.shape)\n",
    "print(uninf3.shape)"
   ],
   "metadata": {
    "collapsed": false,
    "pycharm": {
     "name": "#%%\n"
    }
   }
  },
  {
   "cell_type": "code",
   "execution_count": 20,
   "outputs": [
    {
     "name": "stdout",
     "output_type": "stream",
     "text": [
      "(912, 3)\n",
      "Int64Index([349, 402, 770,  38, 858, 194, 597, 614, 696, 508,\n",
      "            ...\n",
      "            709, 811, 795, 425, 584, 151, 609, 123, 362, 186],\n",
      "           dtype='int64', length=912)\n"
     ]
    },
    {
     "data": {
      "text/plain": "                       0                                                  1  \\\n349  1245948405488254976  Trump’s attitude toward America during the cor...   \n402  1245812496507777031  We have no idea how many people have been infe...   \n770  1244858485814235137  [ #Apple #Spring 2020 Announcements : Everythi...   \n38   1248967976910327808  After a day when the US has had more than 2000...   \n858  1236091789540503554  Trump compares coronavirus tests to Ukraine ca...   \n\n                 2  \n349  UNINFORMATIVE  \n402  UNINFORMATIVE  \n770  UNINFORMATIVE  \n38     INFORMATIVE  \n858  UNINFORMATIVE  ",
      "text/html": "<div>\n<style scoped>\n    .dataframe tbody tr th:only-of-type {\n        vertical-align: middle;\n    }\n\n    .dataframe tbody tr th {\n        vertical-align: top;\n    }\n\n    .dataframe thead th {\n        text-align: right;\n    }\n</style>\n<table border=\"1\" class=\"dataframe\">\n  <thead>\n    <tr style=\"text-align: right;\">\n      <th></th>\n      <th>0</th>\n      <th>1</th>\n      <th>2</th>\n    </tr>\n  </thead>\n  <tbody>\n    <tr>\n      <th>349</th>\n      <td>1245948405488254976</td>\n      <td>Trump’s attitude toward America during the cor...</td>\n      <td>UNINFORMATIVE</td>\n    </tr>\n    <tr>\n      <th>402</th>\n      <td>1245812496507777031</td>\n      <td>We have no idea how many people have been infe...</td>\n      <td>UNINFORMATIVE</td>\n    </tr>\n    <tr>\n      <th>770</th>\n      <td>1244858485814235137</td>\n      <td>[ #Apple #Spring 2020 Announcements : Everythi...</td>\n      <td>UNINFORMATIVE</td>\n    </tr>\n    <tr>\n      <th>38</th>\n      <td>1248967976910327808</td>\n      <td>After a day when the US has had more than 2000...</td>\n      <td>INFORMATIVE</td>\n    </tr>\n    <tr>\n      <th>858</th>\n      <td>1236091789540503554</td>\n      <td>Trump compares coronavirus tests to Ukraine ca...</td>\n      <td>UNINFORMATIVE</td>\n    </tr>\n  </tbody>\n</table>\n</div>"
     },
     "execution_count": 20,
     "metadata": {},
     "output_type": "execute_result"
    }
   ],
   "source": [
    "final_test = pd.concat([inf3, uninf3, uninf2]).reset_index(drop=True)\n",
    "final_test = final_test.reindex(np.random.permutation(final_test.index))\n",
    "print(final_test.shape)\n",
    "print(final_test.index)\n",
    "final_test.head()"
   ],
   "metadata": {
    "collapsed": false,
    "pycharm": {
     "name": "#%%\n"
    }
   }
  },
  {
   "cell_type": "code",
   "execution_count": 21,
   "outputs": [
    {
     "data": {
      "text/plain": "INFORMATIVE      3000\nUNINFORMATIVE    3000\nName: 2, dtype: int64"
     },
     "execution_count": 21,
     "metadata": {},
     "output_type": "execute_result"
    }
   ],
   "source": [
    "final_train[2].value_counts()\n"
   ],
   "metadata": {
    "collapsed": false,
    "pycharm": {
     "name": "#%%\n"
    }
   }
  },
  {
   "cell_type": "code",
   "execution_count": 22,
   "outputs": [
    {
     "data": {
      "text/plain": "INFORMATIVE      512\nUNINFORMATIVE    512\nName: 2, dtype: int64"
     },
     "execution_count": 22,
     "metadata": {},
     "output_type": "execute_result"
    }
   ],
   "source": [
    "final_valid[2].value_counts()"
   ],
   "metadata": {
    "collapsed": false,
    "pycharm": {
     "name": "#%%\n"
    }
   }
  },
  {
   "cell_type": "code",
   "execution_count": 23,
   "outputs": [
    {
     "data": {
      "text/plain": "UNINFORMATIVE    679\nINFORMATIVE      233\nName: 2, dtype: int64"
     },
     "execution_count": 23,
     "metadata": {},
     "output_type": "execute_result"
    }
   ],
   "source": [
    "final_test[2].value_counts()\n"
   ],
   "metadata": {
    "collapsed": false,
    "pycharm": {
     "name": "#%%\n"
    }
   }
  },
  {
   "cell_type": "code",
   "execution_count": 24,
   "outputs": [],
   "source": [
    "final_train.to_csv('./data/raw/train.tsv', sep='\\t', header=False, index=False)\n",
    "final_valid.to_csv('./data/raw/valid.tsv', sep='\\t', header=False, index=False)\n",
    "final_test.to_csv('./data/raw/test.tsv', sep='\\t', header=False, index=False)"
   ],
   "metadata": {
    "collapsed": false,
    "pycharm": {
     "name": "#%%\n"
    }
   }
  },
  {
   "cell_type": "code",
   "execution_count": null,
   "outputs": [],
   "source": [],
   "metadata": {
    "collapsed": false,
    "pycharm": {
     "name": "#%%\n"
    }
   }
  }
 ],
 "metadata": {
  "kernelspec": {
   "display_name": "Python 3",
   "language": "python",
   "name": "python3"
  },
  "language_info": {
   "codemirror_mode": {
    "name": "ipython",
    "version": 2
   },
   "file_extension": ".py",
   "mimetype": "text/x-python",
   "name": "python",
   "nbconvert_exporter": "python",
   "pygments_lexer": "ipython2",
   "version": "2.7.6"
  }
 },
 "nbformat": 4,
 "nbformat_minor": 0
}