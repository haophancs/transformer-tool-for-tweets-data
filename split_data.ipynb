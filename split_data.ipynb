{
 "cells": [
  {
   "cell_type": "code",
   "execution_count": 11,
   "metadata": {
    "collapsed": true
   },
   "outputs": [
    {
     "name": "stdout",
     "output_type": "stream",
     "text": [
      "<class 'pandas.core.frame.DataFrame'>\n",
      "RangeIndex: 6936 entries, 1 to 6936\n",
      "Data columns (total 3 columns):\n",
      " #   Column  Non-Null Count  Dtype \n",
      "---  ------  --------------  ----- \n",
      " 0   0       6936 non-null   object\n",
      " 1   1       6936 non-null   object\n",
      " 2   2       6936 non-null   object\n",
      "dtypes: object(3)\n",
      "memory usage: 162.7+ KB\n",
      "None\n",
      "UNINFORMATIVE    3663\n",
      "INFORMATIVE      3273\n",
      "Name: 2, dtype: int64\n"
     ]
    },
    {
     "data": {
      "text/plain": "                     0                                                  1  \\\n1  1241490299215634434  Official death toll from #covid19 in the Unite...   \n2  1245916400981381130  Dearest Mr. President @USER 1,169 coronavirus ...   \n3  1241132432402849793  Latest Updates March 20 ⚠️5274 new cases and 3...   \n4  1236107253666607104  真把公主不当干部 BREAKING: 21 people on Grand Princess...   \n5  1239673817552879619  OKLAHOMA CITY — The State Department of Educat...   \n\n               2  \n1    INFORMATIVE  \n2    INFORMATIVE  \n3    INFORMATIVE  \n4    INFORMATIVE  \n5  UNINFORMATIVE  ",
      "text/html": "<div>\n<style scoped>\n    .dataframe tbody tr th:only-of-type {\n        vertical-align: middle;\n    }\n\n    .dataframe tbody tr th {\n        vertical-align: top;\n    }\n\n    .dataframe thead th {\n        text-align: right;\n    }\n</style>\n<table border=\"1\" class=\"dataframe\">\n  <thead>\n    <tr style=\"text-align: right;\">\n      <th></th>\n      <th>0</th>\n      <th>1</th>\n      <th>2</th>\n    </tr>\n  </thead>\n  <tbody>\n    <tr>\n      <th>1</th>\n      <td>1241490299215634434</td>\n      <td>Official death toll from #covid19 in the Unite...</td>\n      <td>INFORMATIVE</td>\n    </tr>\n    <tr>\n      <th>2</th>\n      <td>1245916400981381130</td>\n      <td>Dearest Mr. President @USER 1,169 coronavirus ...</td>\n      <td>INFORMATIVE</td>\n    </tr>\n    <tr>\n      <th>3</th>\n      <td>1241132432402849793</td>\n      <td>Latest Updates March 20 ⚠️5274 new cases and 3...</td>\n      <td>INFORMATIVE</td>\n    </tr>\n    <tr>\n      <th>4</th>\n      <td>1236107253666607104</td>\n      <td>真把公主不当干部 BREAKING: 21 people on Grand Princess...</td>\n      <td>INFORMATIVE</td>\n    </tr>\n    <tr>\n      <th>5</th>\n      <td>1239673817552879619</td>\n      <td>OKLAHOMA CITY — The State Department of Educat...</td>\n      <td>UNINFORMATIVE</td>\n    </tr>\n  </tbody>\n</table>\n</div>"
     },
     "execution_count": 11,
     "metadata": {},
     "output_type": "execute_result"
    }
   ],
   "source": [
    "import pandas as pd\n",
    "import numpy as np\n",
    "\n",
    "train_url = \"https://raw.githubusercontent.com/VinAIResearch/COVID19Tweet/master/train.tsv\"\n",
    "train_df = pd.read_csv(train_url, header=None, sep='\\t')[1:]\n",
    "print(train_df.info())\n",
    "print(train_df[2].value_counts())\n",
    "train_df.head()"
   ]
  },
  {
   "cell_type": "code",
   "execution_count": 12,
   "outputs": [
    {
     "name": "stdout",
     "output_type": "stream",
     "text": [
      "(3273, 3)\n",
      "(3663, 3)\n"
     ]
    }
   ],
   "source": [
    "train_informatives = train_df[train_df[2]=='INFORMATIVE']\n",
    "train_uninformatives = train_df[train_df[2]=='UNINFORMATIVE']\n",
    "print(train_informatives.shape)\n",
    "print(train_uninformatives.shape)"
   ],
   "metadata": {
    "collapsed": false,
    "pycharm": {
     "name": "#%%\n"
    }
   }
  },
  {
   "cell_type": "code",
   "execution_count": 13,
   "outputs": [
    {
     "name": "stdout",
     "output_type": "stream",
     "text": [
      "(3273, 3)\n",
      "(0, 3)\n",
      "(3273, 3)\n",
      "(390, 3)\n"
     ]
    }
   ],
   "source": [
    "inf1 = train_informatives[:3273]\n",
    "inf2 = train_informatives[3273:]\n",
    "uninf1 = train_uninformatives[:3273]\n",
    "uninf2 = train_uninformatives[3273:]\n",
    "print(inf1.shape)\n",
    "print(inf2.shape)\n",
    "print(uninf1.shape)\n",
    "print(uninf2.shape)"
   ],
   "metadata": {
    "collapsed": false,
    "pycharm": {
     "name": "#%%\n"
    }
   }
  },
  {
   "cell_type": "code",
   "execution_count": 14,
   "outputs": [
    {
     "name": "stdout",
     "output_type": "stream",
     "text": [
      "(6546, 3)\n",
      "RangeIndex(start=0, stop=6546, step=1)\n",
      "INFORMATIVE      3273\n",
      "UNINFORMATIVE    3273\n",
      "Name: 2, dtype: int64\n"
     ]
    },
    {
     "data": {
      "text/plain": "                     0                                                  1  \\\n0  1241801625091690499  - Nigeria Coronavirus cases rise to 30; - Enug...   \n1  1241434073517744134  @USER great work today - hitting some super ac...   \n2  1242931516478492673  Effective today, March 25, 2020 at 11:59 pm, t...   \n3  1245911758507782146  The Funny Music Podcast - Episode 511 Devo Spi...   \n4  1236150703862812673  And them mofos died frm a std. Coronavirus a w...   \n\n               2  \n0    INFORMATIVE  \n1  UNINFORMATIVE  \n2  UNINFORMATIVE  \n3  UNINFORMATIVE  \n4  UNINFORMATIVE  ",
      "text/html": "<div>\n<style scoped>\n    .dataframe tbody tr th:only-of-type {\n        vertical-align: middle;\n    }\n\n    .dataframe tbody tr th {\n        vertical-align: top;\n    }\n\n    .dataframe thead th {\n        text-align: right;\n    }\n</style>\n<table border=\"1\" class=\"dataframe\">\n  <thead>\n    <tr style=\"text-align: right;\">\n      <th></th>\n      <th>0</th>\n      <th>1</th>\n      <th>2</th>\n    </tr>\n  </thead>\n  <tbody>\n    <tr>\n      <th>0</th>\n      <td>1241801625091690499</td>\n      <td>- Nigeria Coronavirus cases rise to 30; - Enug...</td>\n      <td>INFORMATIVE</td>\n    </tr>\n    <tr>\n      <th>1</th>\n      <td>1241434073517744134</td>\n      <td>@USER great work today - hitting some super ac...</td>\n      <td>UNINFORMATIVE</td>\n    </tr>\n    <tr>\n      <th>2</th>\n      <td>1242931516478492673</td>\n      <td>Effective today, March 25, 2020 at 11:59 pm, t...</td>\n      <td>UNINFORMATIVE</td>\n    </tr>\n    <tr>\n      <th>3</th>\n      <td>1245911758507782146</td>\n      <td>The Funny Music Podcast - Episode 511 Devo Spi...</td>\n      <td>UNINFORMATIVE</td>\n    </tr>\n    <tr>\n      <th>4</th>\n      <td>1236150703862812673</td>\n      <td>And them mofos died frm a std. Coronavirus a w...</td>\n      <td>UNINFORMATIVE</td>\n    </tr>\n  </tbody>\n</table>\n</div>"
     },
     "execution_count": 14,
     "metadata": {},
     "output_type": "execute_result"
    }
   ],
   "source": [
    "final_train = pd.concat([inf1, uninf1]).reset_index(drop=True)\n",
    "final_train = final_train.reindex(np.random.permutation(final_train.index)).reset_index(drop=True)\n",
    "print(final_train.shape)\n",
    "print(final_train.index)\n",
    "print(final_train[2].value_counts())\n",
    "final_train.head()"
   ],
   "metadata": {
    "collapsed": false,
    "pycharm": {
     "name": "#%%\n"
    }
   }
  },
  {
   "cell_type": "code",
   "execution_count": 15,
   "outputs": [
    {
     "name": "stdout",
     "output_type": "stream",
     "text": [
      "<class 'pandas.core.frame.DataFrame'>\n",
      "RangeIndex: 1000 entries, 0 to 999\n",
      "Data columns (total 3 columns):\n",
      " #   Column  Non-Null Count  Dtype \n",
      "---  ------  --------------  ----- \n",
      " 0   0       1000 non-null   int64 \n",
      " 1   1       1000 non-null   object\n",
      " 2   2       1000 non-null   object\n",
      "dtypes: int64(1), object(2)\n",
      "memory usage: 23.6+ KB\n",
      "None\n",
      "UNINFORMATIVE    528\n",
      "INFORMATIVE      472\n",
      "Name: 2, dtype: int64\n"
     ]
    },
    {
     "data": {
      "text/plain": "                     0                                                  1  \\\n0  1241728922192142336  For those saying Pakistan isn’t Italy; After 3...   \n1  1235713405992030209  Second case DR 🇩🇴 The Canadian woman has not b...   \n2  1245941302367305728  Kill Chain: the cyber war on America's electio...   \n3  1245913002840391681  Town hosts FIRST #Virtual #TownCouncil meeting...   \n4  1240543259299987457  Report suggested that the actual number of und...   \n\n               2  \n0  UNINFORMATIVE  \n1    INFORMATIVE  \n2  UNINFORMATIVE  \n3  UNINFORMATIVE  \n4  UNINFORMATIVE  ",
      "text/html": "<div>\n<style scoped>\n    .dataframe tbody tr th:only-of-type {\n        vertical-align: middle;\n    }\n\n    .dataframe tbody tr th {\n        vertical-align: top;\n    }\n\n    .dataframe thead th {\n        text-align: right;\n    }\n</style>\n<table border=\"1\" class=\"dataframe\">\n  <thead>\n    <tr style=\"text-align: right;\">\n      <th></th>\n      <th>0</th>\n      <th>1</th>\n      <th>2</th>\n    </tr>\n  </thead>\n  <tbody>\n    <tr>\n      <th>0</th>\n      <td>1241728922192142336</td>\n      <td>For those saying Pakistan isn’t Italy; After 3...</td>\n      <td>UNINFORMATIVE</td>\n    </tr>\n    <tr>\n      <th>1</th>\n      <td>1235713405992030209</td>\n      <td>Second case DR 🇩🇴 The Canadian woman has not b...</td>\n      <td>INFORMATIVE</td>\n    </tr>\n    <tr>\n      <th>2</th>\n      <td>1245941302367305728</td>\n      <td>Kill Chain: the cyber war on America's electio...</td>\n      <td>UNINFORMATIVE</td>\n    </tr>\n    <tr>\n      <th>3</th>\n      <td>1245913002840391681</td>\n      <td>Town hosts FIRST #Virtual #TownCouncil meeting...</td>\n      <td>UNINFORMATIVE</td>\n    </tr>\n    <tr>\n      <th>4</th>\n      <td>1240543259299987457</td>\n      <td>Report suggested that the actual number of und...</td>\n      <td>UNINFORMATIVE</td>\n    </tr>\n  </tbody>\n</table>\n</div>"
     },
     "execution_count": 15,
     "metadata": {},
     "output_type": "execute_result"
    }
   ],
   "source": [
    "valid_url = \"https://raw.githubusercontent.com/VinAIResearch/COVID19Tweet/master/valid.tsv\"\n",
    "valid_df = pd.read_csv(valid_url, header=None, sep='\\t')\n",
    "print(valid_df.info())\n",
    "print(valid_df[2].value_counts())\n",
    "valid_df.head()"
   ],
   "metadata": {
    "collapsed": false,
    "pycharm": {
     "name": "#%%\n"
    }
   }
  },
  {
   "cell_type": "code",
   "execution_count": 16,
   "outputs": [
    {
     "name": "stdout",
     "output_type": "stream",
     "text": [
      "<class 'pandas.core.frame.DataFrame'>\n",
      "RangeIndex: 12000 entries, 0 to 11999\n",
      "Data columns (total 3 columns):\n",
      " #   Column  Non-Null Count  Dtype \n",
      "---  ------  --------------  ----- \n",
      " 0   0       12000 non-null  int64 \n",
      " 1   1       12000 non-null  object\n",
      " 2   2       12000 non-null  int64 \n",
      "dtypes: int64(2), object(1)\n",
      "memory usage: 281.4+ KB\n",
      "None\n",
      "-1    12000\n",
      "Name: 2, dtype: int64\n"
     ]
    },
    {
     "data": {
      "text/plain": "                     0                                                  1  2\n0  1241478564089942022  Fox Business' Lou Dobbs Self-Quarantines After... -1\n1  1241500696345751552  Results from UVRI showed the sample is positiv... -1\n2  1245646774003314689  Today or tomorrow, the number of #COVIDー19 cas... -1\n3  1249027559003770880  Ramsey County veterans experiencing negative f... -1\n4  1245912151082090497  The #Covid19 death rate in New Orleans is 7x h... -1",
      "text/html": "<div>\n<style scoped>\n    .dataframe tbody tr th:only-of-type {\n        vertical-align: middle;\n    }\n\n    .dataframe tbody tr th {\n        vertical-align: top;\n    }\n\n    .dataframe thead th {\n        text-align: right;\n    }\n</style>\n<table border=\"1\" class=\"dataframe\">\n  <thead>\n    <tr style=\"text-align: right;\">\n      <th></th>\n      <th>0</th>\n      <th>1</th>\n      <th>2</th>\n    </tr>\n  </thead>\n  <tbody>\n    <tr>\n      <th>0</th>\n      <td>1241478564089942022</td>\n      <td>Fox Business' Lou Dobbs Self-Quarantines After...</td>\n      <td>-1</td>\n    </tr>\n    <tr>\n      <th>1</th>\n      <td>1241500696345751552</td>\n      <td>Results from UVRI showed the sample is positiv...</td>\n      <td>-1</td>\n    </tr>\n    <tr>\n      <th>2</th>\n      <td>1245646774003314689</td>\n      <td>Today or tomorrow, the number of #COVIDー19 cas...</td>\n      <td>-1</td>\n    </tr>\n    <tr>\n      <th>3</th>\n      <td>1249027559003770880</td>\n      <td>Ramsey County veterans experiencing negative f...</td>\n      <td>-1</td>\n    </tr>\n    <tr>\n      <th>4</th>\n      <td>1245912151082090497</td>\n      <td>The #Covid19 death rate in New Orleans is 7x h...</td>\n      <td>-1</td>\n    </tr>\n  </tbody>\n</table>\n</div>"
     },
     "execution_count": 16,
     "metadata": {},
     "output_type": "execute_result"
    }
   ],
   "source": [
    "test_url = \"https://raw.githubusercontent.com/VinAIResearch/COVID19Tweet/master/unlabeled_test_with_noise.tsv\"\n",
    "test_df = pd.read_csv(test_url, header=None, sep='\\t')\n",
    "test_df[2] = -1\n",
    "print(test_df.info())\n",
    "print(test_df[2].value_counts())\n",
    "test_df.head()"
   ],
   "metadata": {
    "collapsed": false,
    "pycharm": {
     "name": "#%%\n"
    }
   }
  },
  {
   "cell_type": "code",
   "execution_count": 17,
   "outputs": [],
   "source": [
    "final_train.to_csv('./data/raw/train.tsv', sep='\\t', header=False, index=False)\n",
    "valid_df.to_csv('./data/raw/valid.tsv', sep='\\t', header=False, index=False)\n",
    "test_df.to_csv('./data/raw/test.tsv', sep='\\t', header=False, index=False)"
   ],
   "metadata": {
    "collapsed": false,
    "pycharm": {
     "name": "#%%\n"
    }
   }
  },
  {
   "cell_type": "code",
   "execution_count": null,
   "outputs": [],
   "source": [],
   "metadata": {
    "collapsed": false,
    "pycharm": {
     "name": "#%%\n"
    }
   }
  }
 ],
 "metadata": {
  "kernelspec": {
   "display_name": "Python 3",
   "language": "python",
   "name": "python3"
  },
  "language_info": {
   "codemirror_mode": {
    "name": "ipython",
    "version": 2
   },
   "file_extension": ".py",
   "mimetype": "text/x-python",
   "name": "python",
   "nbconvert_exporter": "python",
   "pygments_lexer": "ipython2",
   "version": "2.7.6"
  }
 },
 "nbformat": 4,
 "nbformat_minor": 0
}