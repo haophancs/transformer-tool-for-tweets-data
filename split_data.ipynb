{
 "cells": [
  {
   "cell_type": "code",
   "execution_count": 23,
   "metadata": {
    "collapsed": true
   },
   "outputs": [
    {
     "name": "stdout",
     "output_type": "stream",
     "text": [
      "<class 'pandas.core.frame.DataFrame'>\n",
      "RangeIndex: 6936 entries, 1 to 6936\n",
      "Data columns (total 3 columns):\n",
      " #   Column  Non-Null Count  Dtype \n",
      "---  ------  --------------  ----- \n",
      " 0   0       6936 non-null   object\n",
      " 1   1       6936 non-null   object\n",
      " 2   2       6936 non-null   object\n",
      "dtypes: object(3)\n",
      "memory usage: 162.7+ KB\n",
      "None\n",
      "UNINFORMATIVE    3663\n",
      "INFORMATIVE      3273\n",
      "Name: 2, dtype: int64\n"
     ]
    },
    {
     "data": {
      "text/plain": "                     0                                                  1  \\\n1  1241490299215634434  Official death toll from #covid19 in the Unite...   \n2  1245916400981381130  Dearest Mr. President @USER 1,169 coronavirus ...   \n3  1241132432402849793  Latest Updates March 20 ⚠️5274 new cases and 3...   \n4  1236107253666607104  真把公主不当干部 BREAKING: 21 people on Grand Princess...   \n5  1239673817552879619  OKLAHOMA CITY — The State Department of Educat...   \n\n               2  \n1    INFORMATIVE  \n2    INFORMATIVE  \n3    INFORMATIVE  \n4    INFORMATIVE  \n5  UNINFORMATIVE  ",
      "text/html": "<div>\n<style scoped>\n    .dataframe tbody tr th:only-of-type {\n        vertical-align: middle;\n    }\n\n    .dataframe tbody tr th {\n        vertical-align: top;\n    }\n\n    .dataframe thead th {\n        text-align: right;\n    }\n</style>\n<table border=\"1\" class=\"dataframe\">\n  <thead>\n    <tr style=\"text-align: right;\">\n      <th></th>\n      <th>0</th>\n      <th>1</th>\n      <th>2</th>\n    </tr>\n  </thead>\n  <tbody>\n    <tr>\n      <th>1</th>\n      <td>1241490299215634434</td>\n      <td>Official death toll from #covid19 in the Unite...</td>\n      <td>INFORMATIVE</td>\n    </tr>\n    <tr>\n      <th>2</th>\n      <td>1245916400981381130</td>\n      <td>Dearest Mr. President @USER 1,169 coronavirus ...</td>\n      <td>INFORMATIVE</td>\n    </tr>\n    <tr>\n      <th>3</th>\n      <td>1241132432402849793</td>\n      <td>Latest Updates March 20 ⚠️5274 new cases and 3...</td>\n      <td>INFORMATIVE</td>\n    </tr>\n    <tr>\n      <th>4</th>\n      <td>1236107253666607104</td>\n      <td>真把公主不当干部 BREAKING: 21 people on Grand Princess...</td>\n      <td>INFORMATIVE</td>\n    </tr>\n    <tr>\n      <th>5</th>\n      <td>1239673817552879619</td>\n      <td>OKLAHOMA CITY — The State Department of Educat...</td>\n      <td>UNINFORMATIVE</td>\n    </tr>\n  </tbody>\n</table>\n</div>"
     },
     "execution_count": 23,
     "metadata": {},
     "output_type": "execute_result"
    }
   ],
   "source": [
    "import pandas as pd\n",
    "import numpy as np\n",
    "\n",
    "train_url = \"https://raw.githubusercontent.com/VinAIResearch/COVID19Tweet/master/train.tsv\"\n",
    "train_df = pd.read_csv(train_url, header=None, sep='\\t')[1:]\n",
    "print(train_df.info())\n",
    "print(train_df[2].value_counts())\n",
    "train_df.head()"
   ]
  },
  {
   "cell_type": "code",
   "execution_count": 25,
   "outputs": [
    {
     "name": "stdout",
     "output_type": "stream",
     "text": [
      "<class 'pandas.core.frame.DataFrame'>\n",
      "RangeIndex: 1000 entries, 0 to 999\n",
      "Data columns (total 3 columns):\n",
      " #   Column  Non-Null Count  Dtype \n",
      "---  ------  --------------  ----- \n",
      " 0   0       1000 non-null   int64 \n",
      " 1   1       1000 non-null   object\n",
      " 2   2       1000 non-null   object\n",
      "dtypes: int64(1), object(2)\n",
      "memory usage: 23.6+ KB\n",
      "None\n",
      "UNINFORMATIVE    528\n",
      "INFORMATIVE      472\n",
      "Name: 2, dtype: int64\n"
     ]
    },
    {
     "data": {
      "text/plain": "                     0                                                  1  \\\n0  1241728922192142336  For those saying Pakistan isn’t Italy; After 3...   \n1  1235713405992030209  Second case DR 🇩🇴 The Canadian woman has not b...   \n2  1245941302367305728  Kill Chain: the cyber war on America's electio...   \n3  1245913002840391681  Town hosts FIRST #Virtual #TownCouncil meeting...   \n4  1240543259299987457  Report suggested that the actual number of und...   \n\n               2  \n0  UNINFORMATIVE  \n1    INFORMATIVE  \n2  UNINFORMATIVE  \n3  UNINFORMATIVE  \n4  UNINFORMATIVE  ",
      "text/html": "<div>\n<style scoped>\n    .dataframe tbody tr th:only-of-type {\n        vertical-align: middle;\n    }\n\n    .dataframe tbody tr th {\n        vertical-align: top;\n    }\n\n    .dataframe thead th {\n        text-align: right;\n    }\n</style>\n<table border=\"1\" class=\"dataframe\">\n  <thead>\n    <tr style=\"text-align: right;\">\n      <th></th>\n      <th>0</th>\n      <th>1</th>\n      <th>2</th>\n    </tr>\n  </thead>\n  <tbody>\n    <tr>\n      <th>0</th>\n      <td>1241728922192142336</td>\n      <td>For those saying Pakistan isn’t Italy; After 3...</td>\n      <td>UNINFORMATIVE</td>\n    </tr>\n    <tr>\n      <th>1</th>\n      <td>1235713405992030209</td>\n      <td>Second case DR 🇩🇴 The Canadian woman has not b...</td>\n      <td>INFORMATIVE</td>\n    </tr>\n    <tr>\n      <th>2</th>\n      <td>1245941302367305728</td>\n      <td>Kill Chain: the cyber war on America's electio...</td>\n      <td>UNINFORMATIVE</td>\n    </tr>\n    <tr>\n      <th>3</th>\n      <td>1245913002840391681</td>\n      <td>Town hosts FIRST #Virtual #TownCouncil meeting...</td>\n      <td>UNINFORMATIVE</td>\n    </tr>\n    <tr>\n      <th>4</th>\n      <td>1240543259299987457</td>\n      <td>Report suggested that the actual number of und...</td>\n      <td>UNINFORMATIVE</td>\n    </tr>\n  </tbody>\n</table>\n</div>"
     },
     "execution_count": 25,
     "metadata": {},
     "output_type": "execute_result"
    }
   ],
   "source": [
    "valid_url = \"https://raw.githubusercontent.com/VinAIResearch/COVID19Tweet/master/valid.tsv\"\n",
    "valid_df = pd.read_csv(valid_url, header=None, sep='\\t')\n",
    "print(valid_df.info())\n",
    "print(valid_df[2].value_counts())\n",
    "valid_df.head()"
   ],
   "metadata": {
    "collapsed": false,
    "pycharm": {
     "name": "#%%\n"
    }
   }
  },
  {
   "cell_type": "code",
   "execution_count": 26,
   "outputs": [
    {
     "name": "stdout",
     "output_type": "stream",
     "text": [
      "(3273, 3)\n",
      "(3663, 3)\n"
     ]
    }
   ],
   "source": [
    "train_informatives = train_df[train_df[2]=='INFORMATIVE']\n",
    "train_uninformatives = train_df[train_df[2]=='UNINFORMATIVE']\n",
    "print(train_informatives.shape)\n",
    "print(train_uninformatives.shape)"
   ],
   "metadata": {
    "collapsed": false,
    "pycharm": {
     "name": "#%%\n"
    }
   }
  },
  {
   "cell_type": "code",
   "execution_count": 27,
   "outputs": [
    {
     "name": "stdout",
     "output_type": "stream",
     "text": [
      "(472, 3)\n",
      "(528, 3)\n"
     ]
    }
   ],
   "source": [
    "valid_informatives = valid_df[valid_df[2]=='INFORMATIVE']\n",
    "valid_uninformatives = valid_df[valid_df[2]=='UNINFORMATIVE']\n",
    "print(valid_informatives.shape)\n",
    "print(valid_uninformatives.shape)"
   ],
   "metadata": {
    "collapsed": false,
    "pycharm": {
     "name": "#%%\n"
    }
   }
  },
  {
   "cell_type": "code",
   "execution_count": 28,
   "outputs": [
    {
     "name": "stdout",
     "output_type": "stream",
     "text": [
      "(3200, 3)\n",
      "(73, 3)\n",
      "(3200, 3)\n",
      "(463, 3)\n"
     ]
    }
   ],
   "source": [
    "inf1 = train_informatives[:3200]\n",
    "inf2 = train_informatives[3200:]\n",
    "uninf1 = train_uninformatives[:3200]\n",
    "uninf2 = train_uninformatives[3200:]\n",
    "print(inf1.shape)\n",
    "print(inf2.shape)\n",
    "print(uninf1.shape)\n",
    "print(uninf2.shape)"
   ],
   "metadata": {
    "collapsed": false,
    "pycharm": {
     "name": "#%%\n"
    }
   }
  },
  {
   "cell_type": "code",
   "execution_count": 29,
   "outputs": [
    {
     "name": "stdout",
     "output_type": "stream",
     "text": [
      "(6400, 3)\n",
      "RangeIndex(start=0, stop=6400, step=1)\n"
     ]
    },
    {
     "data": {
      "text/plain": "                     0                                                  1  \\\n0  1242404696087805952  11 hospitals in J&amp;K to be converted into C...   \n1  1236300490952134656  Breakingnews: #Russia has been suspected of us...   \n2  1241859385456017408  The rainbow is a reminder of an important prom...   \n3  1236095383685787650  Importance of testing and understanding the de...   \n4  1236125643516964865  Colombia confirms first case of #COVID19; the ...   \n\n               2  \n0  UNINFORMATIVE  \n1  UNINFORMATIVE  \n2  UNINFORMATIVE  \n3    INFORMATIVE  \n4    INFORMATIVE  ",
      "text/html": "<div>\n<style scoped>\n    .dataframe tbody tr th:only-of-type {\n        vertical-align: middle;\n    }\n\n    .dataframe tbody tr th {\n        vertical-align: top;\n    }\n\n    .dataframe thead th {\n        text-align: right;\n    }\n</style>\n<table border=\"1\" class=\"dataframe\">\n  <thead>\n    <tr style=\"text-align: right;\">\n      <th></th>\n      <th>0</th>\n      <th>1</th>\n      <th>2</th>\n    </tr>\n  </thead>\n  <tbody>\n    <tr>\n      <th>0</th>\n      <td>1242404696087805952</td>\n      <td>11 hospitals in J&amp;amp;K to be converted into C...</td>\n      <td>UNINFORMATIVE</td>\n    </tr>\n    <tr>\n      <th>1</th>\n      <td>1236300490952134656</td>\n      <td>Breakingnews: #Russia has been suspected of us...</td>\n      <td>UNINFORMATIVE</td>\n    </tr>\n    <tr>\n      <th>2</th>\n      <td>1241859385456017408</td>\n      <td>The rainbow is a reminder of an important prom...</td>\n      <td>UNINFORMATIVE</td>\n    </tr>\n    <tr>\n      <th>3</th>\n      <td>1236095383685787650</td>\n      <td>Importance of testing and understanding the de...</td>\n      <td>INFORMATIVE</td>\n    </tr>\n    <tr>\n      <th>4</th>\n      <td>1236125643516964865</td>\n      <td>Colombia confirms first case of #COVID19; the ...</td>\n      <td>INFORMATIVE</td>\n    </tr>\n  </tbody>\n</table>\n</div>"
     },
     "execution_count": 29,
     "metadata": {},
     "output_type": "execute_result"
    }
   ],
   "source": [
    "final_train = pd.concat([inf1, uninf1]).reset_index(drop=True)\n",
    "final_train = final_train.reindex(np.random.permutation(final_train.index)).reset_index(drop=True)\n",
    "print(final_train.shape)\n",
    "print(final_train.index)\n",
    "final_train.head()"
   ],
   "metadata": {
    "collapsed": false,
    "pycharm": {
     "name": "#%%\n"
    }
   }
  },
  {
   "cell_type": "code",
   "execution_count": 16,
   "outputs": [
    {
     "name": "stdout",
     "output_type": "stream",
     "text": [
      "(1024, 3)\n",
      "RangeIndex(start=0, stop=1024, step=1)\n"
     ]
    },
    {
     "data": {
      "text/plain": "                     0                                                  1  \\\n0  1241192691985047553  Moleculin Bio +15% premarket on filing new pat...   \n1  1241128053612269568  On February 15, Italy had just 3 Cases. China ...   \n2  1235971989837357056  Do you have questions about #COVID19? Visit HT...   \n3  1239239262039662596  ○Coronavirus HYSTERIA○ Detected in US- 1/21/20...   \n4  1241185016937418752  Hey @USER a german friend of mine is staying a...   \n\n               2  \n0  UNINFORMATIVE  \n1    INFORMATIVE  \n2  UNINFORMATIVE  \n3    INFORMATIVE  \n4  UNINFORMATIVE  ",
      "text/html": "<div>\n<style scoped>\n    .dataframe tbody tr th:only-of-type {\n        vertical-align: middle;\n    }\n\n    .dataframe tbody tr th {\n        vertical-align: top;\n    }\n\n    .dataframe thead th {\n        text-align: right;\n    }\n</style>\n<table border=\"1\" class=\"dataframe\">\n  <thead>\n    <tr style=\"text-align: right;\">\n      <th></th>\n      <th>0</th>\n      <th>1</th>\n      <th>2</th>\n    </tr>\n  </thead>\n  <tbody>\n    <tr>\n      <th>0</th>\n      <td>1241192691985047553</td>\n      <td>Moleculin Bio +15% premarket on filing new pat...</td>\n      <td>UNINFORMATIVE</td>\n    </tr>\n    <tr>\n      <th>1</th>\n      <td>1241128053612269568</td>\n      <td>On February 15, Italy had just 3 Cases. China ...</td>\n      <td>INFORMATIVE</td>\n    </tr>\n    <tr>\n      <th>2</th>\n      <td>1235971989837357056</td>\n      <td>Do you have questions about #COVID19? Visit HT...</td>\n      <td>UNINFORMATIVE</td>\n    </tr>\n    <tr>\n      <th>3</th>\n      <td>1239239262039662596</td>\n      <td>○Coronavirus HYSTERIA○ Detected in US- 1/21/20...</td>\n      <td>INFORMATIVE</td>\n    </tr>\n    <tr>\n      <th>4</th>\n      <td>1241185016937418752</td>\n      <td>Hey @USER a german friend of mine is staying a...</td>\n      <td>UNINFORMATIVE</td>\n    </tr>\n  </tbody>\n</table>\n</div>"
     },
     "execution_count": 16,
     "metadata": {},
     "output_type": "execute_result"
    }
   ],
   "source": [
    "final_valid = pd.concat([valid_informatives, inf2[:40]])\n",
    "inf3 = inf2[40:]\n",
    "final_valid = pd.concat([final_valid, valid_uninformatives[:512]])\n",
    "uninf3 = valid_uninformatives[512:]\n",
    "final_valid = final_valid.reset_index(drop=True)\n",
    "final_valid = final_valid.reindex(np.random.permutation(final_valid.index)).reset_index(drop=True)\n",
    "print(final_valid.shape)\n",
    "print(final_valid.index)\n",
    "final_valid.head()"
   ],
   "metadata": {
    "collapsed": false,
    "pycharm": {
     "name": "#%%\n"
    }
   }
  },
  {
   "cell_type": "code",
   "execution_count": 17,
   "outputs": [
    {
     "name": "stdout",
     "output_type": "stream",
     "text": [
      "(33, 3)\n",
      "(16, 3)\n"
     ]
    }
   ],
   "source": [
    "print(inf3.shape)\n",
    "print(uninf3.shape)"
   ],
   "metadata": {
    "collapsed": false,
    "pycharm": {
     "name": "#%%\n"
    }
   }
  },
  {
   "cell_type": "code",
   "execution_count": 18,
   "outputs": [
    {
     "name": "stdout",
     "output_type": "stream",
     "text": [
      "(512, 3)\n",
      "Int64Index([111, 246, 396, 110, 380,  50, 456, 435, 195, 139,\n",
      "            ...\n",
      "            180,   0, 481, 293, 243,  67, 253, 263,  53, 177],\n",
      "           dtype='int64', length=512)\n"
     ]
    },
    {
     "data": {
      "text/plain": "                       0                                                  1  \\\n111  1248733854279450624  Sana after holy week, makarecover na ang buong...   \n246  1241179216575705088  Restaurants have been very hard hit by the cor...   \n396  1246868298421145601  Cuomo Says New York CCP Virus Deaths Are Down ...   \n110  1250806187471384576  🦠 #Ukraine does much fewer tests than other co...   \n380  1241671694487609344  @USER please kindly confirm this news for Nige...   \n\n                 2  \n111  UNINFORMATIVE  \n246  UNINFORMATIVE  \n396  UNINFORMATIVE  \n110  UNINFORMATIVE  \n380  UNINFORMATIVE  ",
      "text/html": "<div>\n<style scoped>\n    .dataframe tbody tr th:only-of-type {\n        vertical-align: middle;\n    }\n\n    .dataframe tbody tr th {\n        vertical-align: top;\n    }\n\n    .dataframe thead th {\n        text-align: right;\n    }\n</style>\n<table border=\"1\" class=\"dataframe\">\n  <thead>\n    <tr style=\"text-align: right;\">\n      <th></th>\n      <th>0</th>\n      <th>1</th>\n      <th>2</th>\n    </tr>\n  </thead>\n  <tbody>\n    <tr>\n      <th>111</th>\n      <td>1248733854279450624</td>\n      <td>Sana after holy week, makarecover na ang buong...</td>\n      <td>UNINFORMATIVE</td>\n    </tr>\n    <tr>\n      <th>246</th>\n      <td>1241179216575705088</td>\n      <td>Restaurants have been very hard hit by the cor...</td>\n      <td>UNINFORMATIVE</td>\n    </tr>\n    <tr>\n      <th>396</th>\n      <td>1246868298421145601</td>\n      <td>Cuomo Says New York CCP Virus Deaths Are Down ...</td>\n      <td>UNINFORMATIVE</td>\n    </tr>\n    <tr>\n      <th>110</th>\n      <td>1250806187471384576</td>\n      <td>🦠 #Ukraine does much fewer tests than other co...</td>\n      <td>UNINFORMATIVE</td>\n    </tr>\n    <tr>\n      <th>380</th>\n      <td>1241671694487609344</td>\n      <td>@USER please kindly confirm this news for Nige...</td>\n      <td>UNINFORMATIVE</td>\n    </tr>\n  </tbody>\n</table>\n</div>"
     },
     "execution_count": 18,
     "metadata": {},
     "output_type": "execute_result"
    }
   ],
   "source": [
    "final_test = pd.concat([inf3, uninf3, uninf2]).reset_index(drop=True)\n",
    "final_test = final_test.reindex(np.random.permutation(final_test.index))\n",
    "print(final_test.shape)\n",
    "print(final_test.index)\n",
    "final_test.head()"
   ],
   "metadata": {
    "collapsed": false,
    "pycharm": {
     "name": "#%%\n"
    }
   }
  },
  {
   "cell_type": "code",
   "execution_count": 19,
   "outputs": [
    {
     "data": {
      "text/plain": "UNINFORMATIVE    3200\nINFORMATIVE      3200\nName: 2, dtype: int64"
     },
     "execution_count": 19,
     "metadata": {},
     "output_type": "execute_result"
    }
   ],
   "source": [
    "final_train[2].value_counts()"
   ],
   "metadata": {
    "collapsed": false,
    "pycharm": {
     "name": "#%%\n"
    }
   }
  },
  {
   "cell_type": "code",
   "execution_count": 20,
   "outputs": [
    {
     "data": {
      "text/plain": "UNINFORMATIVE    512\nINFORMATIVE      512\nName: 2, dtype: int64"
     },
     "execution_count": 20,
     "metadata": {},
     "output_type": "execute_result"
    }
   ],
   "source": [
    "final_valid[2].value_counts()"
   ],
   "metadata": {
    "collapsed": false,
    "pycharm": {
     "name": "#%%\n"
    }
   }
  },
  {
   "cell_type": "code",
   "execution_count": 21,
   "outputs": [
    {
     "data": {
      "text/plain": "UNINFORMATIVE    479\nINFORMATIVE       33\nName: 2, dtype: int64"
     },
     "execution_count": 21,
     "metadata": {},
     "output_type": "execute_result"
    }
   ],
   "source": [
    "final_test[2].value_counts()\n"
   ],
   "metadata": {
    "collapsed": false,
    "pycharm": {
     "name": "#%%\n"
    }
   }
  },
  {
   "cell_type": "code",
   "execution_count": 22,
   "outputs": [],
   "source": [
    "final_train.to_csv('./data/raw/train.tsv', sep='\\t', header=False, index=False)\n",
    "final_valid.to_csv('./data/raw/valid.tsv', sep='\\t', header=False, index=False)\n",
    "final_test.to_csv('./data/raw/test.tsv', sep='\\t', header=False, index=False)"
   ],
   "metadata": {
    "collapsed": false,
    "pycharm": {
     "name": "#%%\n"
    }
   }
  },
  {
   "cell_type": "code",
   "execution_count": null,
   "outputs": [],
   "source": [],
   "metadata": {
    "collapsed": false,
    "pycharm": {
     "name": "#%%\n"
    }
   }
  }
 ],
 "metadata": {
  "kernelspec": {
   "display_name": "Python 3",
   "language": "python",
   "name": "python3"
  },
  "language_info": {
   "codemirror_mode": {
    "name": "ipython",
    "version": 2
   },
   "file_extension": ".py",
   "mimetype": "text/x-python",
   "name": "python",
   "nbconvert_exporter": "python",
   "pygments_lexer": "ipython2",
   "version": "2.7.6"
  }
 },
 "nbformat": 4,
 "nbformat_minor": 0
}