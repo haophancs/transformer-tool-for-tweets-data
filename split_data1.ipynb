{
 "cells": [
  {
   "cell_type": "code",
   "execution_count": 1,
   "metadata": {
    "collapsed": true
   },
   "outputs": [
    {
     "name": "stdout",
     "output_type": "stream",
     "text": [
      "<class 'pandas.core.frame.DataFrame'>\n",
      "RangeIndex: 6936 entries, 1 to 6936\n",
      "Data columns (total 3 columns):\n",
      " #   Column  Non-Null Count  Dtype \n",
      "---  ------  --------------  ----- \n",
      " 0   0       6936 non-null   object\n",
      " 1   1       6936 non-null   object\n",
      " 2   2       6936 non-null   object\n",
      "dtypes: object(3)\n",
      "memory usage: 162.7+ KB\n",
      "None\n",
      "UNINFORMATIVE    3663\n",
      "INFORMATIVE      3273\n",
      "Name: 2, dtype: int64\n"
     ]
    },
    {
     "data": {
      "text/plain": "                     0                                                  1  \\\n1  1241490299215634434  Official death toll from #covid19 in the Unite...   \n2  1245916400981381130  Dearest Mr. President @USER 1,169 coronavirus ...   \n3  1241132432402849793  Latest Updates March 20 ⚠️5274 new cases and 3...   \n4  1236107253666607104  真把公主不当干部 BREAKING: 21 people on Grand Princess...   \n5  1239673817552879619  OKLAHOMA CITY — The State Department of Educat...   \n\n               2  \n1    INFORMATIVE  \n2    INFORMATIVE  \n3    INFORMATIVE  \n4    INFORMATIVE  \n5  UNINFORMATIVE  ",
      "text/html": "<div>\n<style scoped>\n    .dataframe tbody tr th:only-of-type {\n        vertical-align: middle;\n    }\n\n    .dataframe tbody tr th {\n        vertical-align: top;\n    }\n\n    .dataframe thead th {\n        text-align: right;\n    }\n</style>\n<table border=\"1\" class=\"dataframe\">\n  <thead>\n    <tr style=\"text-align: right;\">\n      <th></th>\n      <th>0</th>\n      <th>1</th>\n      <th>2</th>\n    </tr>\n  </thead>\n  <tbody>\n    <tr>\n      <th>1</th>\n      <td>1241490299215634434</td>\n      <td>Official death toll from #covid19 in the Unite...</td>\n      <td>INFORMATIVE</td>\n    </tr>\n    <tr>\n      <th>2</th>\n      <td>1245916400981381130</td>\n      <td>Dearest Mr. President @USER 1,169 coronavirus ...</td>\n      <td>INFORMATIVE</td>\n    </tr>\n    <tr>\n      <th>3</th>\n      <td>1241132432402849793</td>\n      <td>Latest Updates March 20 ⚠️5274 new cases and 3...</td>\n      <td>INFORMATIVE</td>\n    </tr>\n    <tr>\n      <th>4</th>\n      <td>1236107253666607104</td>\n      <td>真把公主不当干部 BREAKING: 21 people on Grand Princess...</td>\n      <td>INFORMATIVE</td>\n    </tr>\n    <tr>\n      <th>5</th>\n      <td>1239673817552879619</td>\n      <td>OKLAHOMA CITY — The State Department of Educat...</td>\n      <td>UNINFORMATIVE</td>\n    </tr>\n  </tbody>\n</table>\n</div>"
     },
     "execution_count": 1,
     "metadata": {},
     "output_type": "execute_result"
    }
   ],
   "source": [
    "import pandas as pd\n",
    "import numpy as np\n",
    "\n",
    "train_url = \"https://raw.githubusercontent.com/VinAIResearch/COVID19Tweet/master/train.tsv\"\n",
    "train_df = pd.read_csv(train_url, header=None, sep='\\t')[1:]\n",
    "print(train_df.info())\n",
    "print(train_df[2].value_counts())\n",
    "train_df.head()"
   ]
  },
  {
   "cell_type": "code",
   "execution_count": 2,
   "outputs": [
    {
     "name": "stdout",
     "output_type": "stream",
     "text": [
      "(3273, 3)\n",
      "(3663, 3)\n"
     ]
    }
   ],
   "source": [
    "train_informatives = train_df[train_df[2]=='INFORMATIVE']\n",
    "train_uninformatives = train_df[train_df[2]=='UNINFORMATIVE']\n",
    "print(train_informatives.shape)\n",
    "print(train_uninformatives.shape)"
   ],
   "metadata": {
    "collapsed": false,
    "pycharm": {
     "name": "#%%\n"
    }
   }
  },
  {
   "cell_type": "code",
   "execution_count": 3,
   "outputs": [
    {
     "name": "stdout",
     "output_type": "stream",
     "text": [
      "(3100, 3)\n",
      "(173, 3)\n",
      "(3100, 3)\n",
      "(563, 3)\n"
     ]
    }
   ],
   "source": [
    "inf1 = train_informatives[:3100]\n",
    "inf2 = train_informatives[3100:]\n",
    "uninf1 = train_uninformatives[:3100]\n",
    "uninf2 = train_uninformatives[3100:]\n",
    "print(inf1.shape)\n",
    "print(inf2.shape)\n",
    "print(uninf1.shape)\n",
    "print(uninf2.shape)"
   ],
   "metadata": {
    "collapsed": false,
    "pycharm": {
     "name": "#%%\n"
    }
   }
  },
  {
   "cell_type": "code",
   "execution_count": 4,
   "outputs": [
    {
     "name": "stdout",
     "output_type": "stream",
     "text": [
      "(6200, 3)\n",
      "RangeIndex(start=0, stop=6200, step=1)\n",
      "INFORMATIVE      3100\n",
      "UNINFORMATIVE    3100\n",
      "Name: 2, dtype: int64\n"
     ]
    },
    {
     "data": {
      "text/plain": "                     0                                                  1  \\\n0  1236101623258087424  @USER Hey Rebecca. Buried in all the conversat...   \n1  1248797183597559811  The Justice Department opened a probe of a Mas...   \n2  1236134832012288000  Vietnam just recorded its 17th case of COVID-1...   \n3  1241509157380993025  We received information that a Trader Joe’s cr...   \n4  1236094875482742784  Trump described Washington Gov. Jay Inslee as ...   \n\n               2  \n0  UNINFORMATIVE  \n1  UNINFORMATIVE  \n2    INFORMATIVE  \n3    INFORMATIVE  \n4    INFORMATIVE  ",
      "text/html": "<div>\n<style scoped>\n    .dataframe tbody tr th:only-of-type {\n        vertical-align: middle;\n    }\n\n    .dataframe tbody tr th {\n        vertical-align: top;\n    }\n\n    .dataframe thead th {\n        text-align: right;\n    }\n</style>\n<table border=\"1\" class=\"dataframe\">\n  <thead>\n    <tr style=\"text-align: right;\">\n      <th></th>\n      <th>0</th>\n      <th>1</th>\n      <th>2</th>\n    </tr>\n  </thead>\n  <tbody>\n    <tr>\n      <th>0</th>\n      <td>1236101623258087424</td>\n      <td>@USER Hey Rebecca. Buried in all the conversat...</td>\n      <td>UNINFORMATIVE</td>\n    </tr>\n    <tr>\n      <th>1</th>\n      <td>1248797183597559811</td>\n      <td>The Justice Department opened a probe of a Mas...</td>\n      <td>UNINFORMATIVE</td>\n    </tr>\n    <tr>\n      <th>2</th>\n      <td>1236134832012288000</td>\n      <td>Vietnam just recorded its 17th case of COVID-1...</td>\n      <td>INFORMATIVE</td>\n    </tr>\n    <tr>\n      <th>3</th>\n      <td>1241509157380993025</td>\n      <td>We received information that a Trader Joe’s cr...</td>\n      <td>INFORMATIVE</td>\n    </tr>\n    <tr>\n      <th>4</th>\n      <td>1236094875482742784</td>\n      <td>Trump described Washington Gov. Jay Inslee as ...</td>\n      <td>INFORMATIVE</td>\n    </tr>\n  </tbody>\n</table>\n</div>"
     },
     "execution_count": 4,
     "metadata": {},
     "output_type": "execute_result"
    }
   ],
   "source": [
    "final_train = pd.concat([inf1, uninf1]).reset_index(drop=True)\n",
    "final_train = final_train.reindex(np.random.permutation(final_train.index)).reset_index(drop=True)\n",
    "print(final_train.shape)\n",
    "print(final_train.index)\n",
    "print(final_train[2].value_counts())\n",
    "final_train.head()"
   ],
   "metadata": {
    "collapsed": false,
    "pycharm": {
     "name": "#%%\n"
    }
   }
  },
  {
   "cell_type": "code",
   "execution_count": 5,
   "outputs": [
    {
     "name": "stdout",
     "output_type": "stream",
     "text": [
      "<class 'pandas.core.frame.DataFrame'>\n",
      "RangeIndex: 1000 entries, 0 to 999\n",
      "Data columns (total 3 columns):\n",
      " #   Column  Non-Null Count  Dtype \n",
      "---  ------  --------------  ----- \n",
      " 0   0       1000 non-null   int64 \n",
      " 1   1       1000 non-null   object\n",
      " 2   2       1000 non-null   object\n",
      "dtypes: int64(1), object(2)\n",
      "memory usage: 23.6+ KB\n",
      "None\n",
      "UNINFORMATIVE    528\n",
      "INFORMATIVE      472\n",
      "Name: 2, dtype: int64\n"
     ]
    },
    {
     "data": {
      "text/plain": "                     0                                                  1  \\\n0  1241728922192142336  For those saying Pakistan isn’t Italy; After 3...   \n1  1235713405992030209  Second case DR 🇩🇴 The Canadian woman has not b...   \n2  1245941302367305728  Kill Chain: the cyber war on America's electio...   \n3  1245913002840391681  Town hosts FIRST #Virtual #TownCouncil meeting...   \n4  1240543259299987457  Report suggested that the actual number of und...   \n\n               2  \n0  UNINFORMATIVE  \n1    INFORMATIVE  \n2  UNINFORMATIVE  \n3  UNINFORMATIVE  \n4  UNINFORMATIVE  ",
      "text/html": "<div>\n<style scoped>\n    .dataframe tbody tr th:only-of-type {\n        vertical-align: middle;\n    }\n\n    .dataframe tbody tr th {\n        vertical-align: top;\n    }\n\n    .dataframe thead th {\n        text-align: right;\n    }\n</style>\n<table border=\"1\" class=\"dataframe\">\n  <thead>\n    <tr style=\"text-align: right;\">\n      <th></th>\n      <th>0</th>\n      <th>1</th>\n      <th>2</th>\n    </tr>\n  </thead>\n  <tbody>\n    <tr>\n      <th>0</th>\n      <td>1241728922192142336</td>\n      <td>For those saying Pakistan isn’t Italy; After 3...</td>\n      <td>UNINFORMATIVE</td>\n    </tr>\n    <tr>\n      <th>1</th>\n      <td>1235713405992030209</td>\n      <td>Second case DR 🇩🇴 The Canadian woman has not b...</td>\n      <td>INFORMATIVE</td>\n    </tr>\n    <tr>\n      <th>2</th>\n      <td>1245941302367305728</td>\n      <td>Kill Chain: the cyber war on America's electio...</td>\n      <td>UNINFORMATIVE</td>\n    </tr>\n    <tr>\n      <th>3</th>\n      <td>1245913002840391681</td>\n      <td>Town hosts FIRST #Virtual #TownCouncil meeting...</td>\n      <td>UNINFORMATIVE</td>\n    </tr>\n    <tr>\n      <th>4</th>\n      <td>1240543259299987457</td>\n      <td>Report suggested that the actual number of und...</td>\n      <td>UNINFORMATIVE</td>\n    </tr>\n  </tbody>\n</table>\n</div>"
     },
     "execution_count": 5,
     "metadata": {},
     "output_type": "execute_result"
    }
   ],
   "source": [
    "valid_url = \"https://raw.githubusercontent.com/VinAIResearch/COVID19Tweet/master/valid.tsv\"\n",
    "valid_df = pd.read_csv(valid_url, header=None, sep='\\t')\n",
    "print(valid_df.info())\n",
    "print(valid_df[2].value_counts())\n",
    "valid_df.head()"
   ],
   "metadata": {
    "collapsed": false,
    "pycharm": {
     "name": "#%%\n"
    }
   }
  },
  {
   "cell_type": "code",
   "execution_count": 7,
   "outputs": [
    {
     "name": "stdout",
     "output_type": "stream",
     "text": [
      "<class 'pandas.core.frame.DataFrame'>\n",
      "RangeIndex: 400 entries, 0 to 399\n",
      "Data columns (total 3 columns):\n",
      " #   Column  Non-Null Count  Dtype \n",
      "---  ------  --------------  ----- \n",
      " 0   0       400 non-null    int64 \n",
      " 1   1       400 non-null    object\n",
      " 2   2       400 non-null    object\n",
      "dtypes: int64(1), object(2)\n",
      "memory usage: 9.5+ KB\n",
      "None\n",
      "INFORMATIVE      227\n",
      "UNINFORMATIVE    173\n",
      "Name: 2, dtype: int64\n"
     ]
    },
    {
     "data": {
      "text/plain": "                     0                                                  1  \\\n0  1241478564089942022  Fox Business' Lou Dobbs Self-Quarantines After...   \n1  1241500696345751552  Results from UVRI showed the sample is positiv...   \n2  1245646774003314689  Today or tomorrow, the number of #COVIDãƒ¼19 c...   \n3  1249027559003770880  Ramsey County veterans experiencing negative f...   \n4  1245912151082090497  The #Covid19 death rate in New Orleans is 7x h...   \n\n               2  \n0    INFORMATIVE  \n1    INFORMATIVE  \n2    INFORMATIVE  \n3  UNINFORMATIVE  \n4    INFORMATIVE  ",
      "text/html": "<div>\n<style scoped>\n    .dataframe tbody tr th:only-of-type {\n        vertical-align: middle;\n    }\n\n    .dataframe tbody tr th {\n        vertical-align: top;\n    }\n\n    .dataframe thead th {\n        text-align: right;\n    }\n</style>\n<table border=\"1\" class=\"dataframe\">\n  <thead>\n    <tr style=\"text-align: right;\">\n      <th></th>\n      <th>0</th>\n      <th>1</th>\n      <th>2</th>\n    </tr>\n  </thead>\n  <tbody>\n    <tr>\n      <th>0</th>\n      <td>1241478564089942022</td>\n      <td>Fox Business' Lou Dobbs Self-Quarantines After...</td>\n      <td>INFORMATIVE</td>\n    </tr>\n    <tr>\n      <th>1</th>\n      <td>1241500696345751552</td>\n      <td>Results from UVRI showed the sample is positiv...</td>\n      <td>INFORMATIVE</td>\n    </tr>\n    <tr>\n      <th>2</th>\n      <td>1245646774003314689</td>\n      <td>Today or tomorrow, the number of #COVIDãƒ¼19 c...</td>\n      <td>INFORMATIVE</td>\n    </tr>\n    <tr>\n      <th>3</th>\n      <td>1249027559003770880</td>\n      <td>Ramsey County veterans experiencing negative f...</td>\n      <td>UNINFORMATIVE</td>\n    </tr>\n    <tr>\n      <th>4</th>\n      <td>1245912151082090497</td>\n      <td>The #Covid19 death rate in New Orleans is 7x h...</td>\n      <td>INFORMATIVE</td>\n    </tr>\n  </tbody>\n</table>\n</div>"
     },
     "execution_count": 7,
     "metadata": {},
     "output_type": "execute_result"
    }
   ],
   "source": [
    "test_url = \"./data/raw/labeled_test.tsv\"\n",
    "test_df = pd.read_csv(test_url, header=None, sep='\\t')\n",
    "print(test_df.info())\n",
    "print(test_df[2].value_counts())\n",
    "test_df.head()"
   ],
   "metadata": {
    "collapsed": false,
    "pycharm": {
     "name": "#%%\n"
    }
   }
  },
  {
   "cell_type": "code",
   "execution_count": 8,
   "outputs": [
    {
     "name": "stdout",
     "output_type": "stream",
     "text": [
      "<class 'pandas.core.frame.DataFrame'>\n",
      "RangeIndex: 573 entries, 0 to 572\n",
      "Data columns (total 3 columns):\n",
      " #   Column  Non-Null Count  Dtype \n",
      "---  ------  --------------  ----- \n",
      " 0   0       573 non-null    object\n",
      " 1   1       573 non-null    object\n",
      " 2   2       573 non-null    object\n",
      "dtypes: object(3)\n",
      "memory usage: 13.6+ KB\n",
      "None\n",
      "INFORMATIVE      400\n",
      "UNINFORMATIVE    173\n",
      "Name: 2, dtype: int64\n"
     ]
    },
    {
     "data": {
      "text/plain": "                     0                                                  1  \\\n0  1241478564089942022  Fox Business' Lou Dobbs Self-Quarantines After...   \n1  1241500696345751552  Results from UVRI showed the sample is positiv...   \n2  1245646774003314689  Today or tomorrow, the number of #COVIDãƒ¼19 c...   \n3  1249027559003770880  Ramsey County veterans experiencing negative f...   \n4  1245912151082090497  The #Covid19 death rate in New Orleans is 7x h...   \n\n               2  \n0    INFORMATIVE  \n1    INFORMATIVE  \n2    INFORMATIVE  \n3  UNINFORMATIVE  \n4    INFORMATIVE  ",
      "text/html": "<div>\n<style scoped>\n    .dataframe tbody tr th:only-of-type {\n        vertical-align: middle;\n    }\n\n    .dataframe tbody tr th {\n        vertical-align: top;\n    }\n\n    .dataframe thead th {\n        text-align: right;\n    }\n</style>\n<table border=\"1\" class=\"dataframe\">\n  <thead>\n    <tr style=\"text-align: right;\">\n      <th></th>\n      <th>0</th>\n      <th>1</th>\n      <th>2</th>\n    </tr>\n  </thead>\n  <tbody>\n    <tr>\n      <th>0</th>\n      <td>1241478564089942022</td>\n      <td>Fox Business' Lou Dobbs Self-Quarantines After...</td>\n      <td>INFORMATIVE</td>\n    </tr>\n    <tr>\n      <th>1</th>\n      <td>1241500696345751552</td>\n      <td>Results from UVRI showed the sample is positiv...</td>\n      <td>INFORMATIVE</td>\n    </tr>\n    <tr>\n      <th>2</th>\n      <td>1245646774003314689</td>\n      <td>Today or tomorrow, the number of #COVIDãƒ¼19 c...</td>\n      <td>INFORMATIVE</td>\n    </tr>\n    <tr>\n      <th>3</th>\n      <td>1249027559003770880</td>\n      <td>Ramsey County veterans experiencing negative f...</td>\n      <td>UNINFORMATIVE</td>\n    </tr>\n    <tr>\n      <th>4</th>\n      <td>1245912151082090497</td>\n      <td>The #Covid19 death rate in New Orleans is 7x h...</td>\n      <td>INFORMATIVE</td>\n    </tr>\n  </tbody>\n</table>\n</div>"
     },
     "execution_count": 8,
     "metadata": {},
     "output_type": "execute_result"
    }
   ],
   "source": [
    "test_df = pd.concat([test_df, inf2]).reset_index(drop=True)\n",
    "print(test_df.info())\n",
    "print(test_df[2].value_counts())\n",
    "test_df.head()"
   ],
   "metadata": {
    "collapsed": false,
    "pycharm": {
     "name": "#%%\n"
    }
   }
  },
  {
   "cell_type": "code",
   "execution_count": 9,
   "outputs": [
    {
     "name": "stdout",
     "output_type": "stream",
     "text": [
      "<class 'pandas.core.frame.DataFrame'>\n",
      "RangeIndex: 848 entries, 0 to 847\n",
      "Data columns (total 3 columns):\n",
      " #   Column  Non-Null Count  Dtype \n",
      "---  ------  --------------  ----- \n",
      " 0   0       848 non-null    object\n",
      " 1   1       848 non-null    object\n",
      " 2   2       848 non-null    object\n",
      "dtypes: object(3)\n",
      "memory usage: 20.0+ KB\n",
      "None\n",
      "UNINFORMATIVE    448\n",
      "INFORMATIVE      400\n",
      "Name: 2, dtype: int64\n"
     ]
    },
    {
     "data": {
      "text/plain": "                     0                                                  1  \\\n0  1241478564089942022  Fox Business' Lou Dobbs Self-Quarantines After...   \n1  1241500696345751552  Results from UVRI showed the sample is positiv...   \n2  1245646774003314689  Today or tomorrow, the number of #COVIDãƒ¼19 c...   \n3  1249027559003770880  Ramsey County veterans experiencing negative f...   \n4  1245912151082090497  The #Covid19 death rate in New Orleans is 7x h...   \n\n               2  \n0    INFORMATIVE  \n1    INFORMATIVE  \n2    INFORMATIVE  \n3  UNINFORMATIVE  \n4    INFORMATIVE  ",
      "text/html": "<div>\n<style scoped>\n    .dataframe tbody tr th:only-of-type {\n        vertical-align: middle;\n    }\n\n    .dataframe tbody tr th {\n        vertical-align: top;\n    }\n\n    .dataframe thead th {\n        text-align: right;\n    }\n</style>\n<table border=\"1\" class=\"dataframe\">\n  <thead>\n    <tr style=\"text-align: right;\">\n      <th></th>\n      <th>0</th>\n      <th>1</th>\n      <th>2</th>\n    </tr>\n  </thead>\n  <tbody>\n    <tr>\n      <th>0</th>\n      <td>1241478564089942022</td>\n      <td>Fox Business' Lou Dobbs Self-Quarantines After...</td>\n      <td>INFORMATIVE</td>\n    </tr>\n    <tr>\n      <th>1</th>\n      <td>1241500696345751552</td>\n      <td>Results from UVRI showed the sample is positiv...</td>\n      <td>INFORMATIVE</td>\n    </tr>\n    <tr>\n      <th>2</th>\n      <td>1245646774003314689</td>\n      <td>Today or tomorrow, the number of #COVIDãƒ¼19 c...</td>\n      <td>INFORMATIVE</td>\n    </tr>\n    <tr>\n      <th>3</th>\n      <td>1249027559003770880</td>\n      <td>Ramsey County veterans experiencing negative f...</td>\n      <td>UNINFORMATIVE</td>\n    </tr>\n    <tr>\n      <th>4</th>\n      <td>1245912151082090497</td>\n      <td>The #Covid19 death rate in New Orleans is 7x h...</td>\n      <td>INFORMATIVE</td>\n    </tr>\n  </tbody>\n</table>\n</div>"
     },
     "execution_count": 9,
     "metadata": {},
     "output_type": "execute_result"
    }
   ],
   "source": [
    "test_df = pd.concat([test_df, uninf2[:275]]).reset_index(drop=True)\n",
    "uninf2 = uninf2[275:]\n",
    "print(test_df.info())\n",
    "print(test_df[2].value_counts())\n",
    "test_df.head()"
   ],
   "metadata": {
    "collapsed": false,
    "pycharm": {
     "name": "#%%\n"
    }
   }
  },
  {
   "cell_type": "code",
   "execution_count": 10,
   "outputs": [],
   "source": [
    "final_train.to_csv('./data/raw/train.tsv', sep='\\t', header=False, index=False)\n",
    "valid_df.to_csv('./data/raw/valid.tsv', sep='\\t', header=False, index=False)\n",
    "test_df.to_csv('./data/raw/test.tsv', sep='\\t', header=False, index=False)\n"
   ],
   "metadata": {
    "collapsed": false,
    "pycharm": {
     "name": "#%%\n"
    }
   }
  },
  {
   "cell_type": "code",
   "execution_count": null,
   "outputs": [],
   "source": [],
   "metadata": {
    "collapsed": false,
    "pycharm": {
     "name": "#%%\n"
    }
   }
  }
 ],
 "metadata": {
  "kernelspec": {
   "display_name": "Python 3",
   "language": "python",
   "name": "python3"
  },
  "language_info": {
   "codemirror_mode": {
    "name": "ipython",
    "version": 2
   },
   "file_extension": ".py",
   "mimetype": "text/x-python",
   "name": "python",
   "nbconvert_exporter": "python",
   "pygments_lexer": "ipython2",
   "version": "2.7.6"
  }
 },
 "nbformat": 4,
 "nbformat_minor": 0
}